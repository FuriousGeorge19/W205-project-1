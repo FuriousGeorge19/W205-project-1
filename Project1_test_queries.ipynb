{
 "cells": [
  {
   "cell_type": "markdown",
   "metadata": {},
   "source": [
    "### Some good test queries in here, including\n",
    "- Direct BQ SQL Queries\n",
    "- Direct Queris of views I saved in BQ"
   ]
  },
  {
   "cell_type": "code",
   "execution_count": 2,
   "metadata": {},
   "outputs": [],
   "source": [
    "import pandas as pd"
   ]
  },
  {
   "cell_type": "code",
   "execution_count": 17,
   "metadata": {},
   "outputs": [],
   "source": [
    "%%capture\n",
    "!pip install google-cloud-bigquery-storage"
   ]
  },
  {
   "cell_type": "code",
   "execution_count": null,
   "metadata": {},
   "outputs": [],
   "source": []
  },
  {
   "cell_type": "code",
   "execution_count": null,
   "metadata": {},
   "outputs": [],
   "source": []
  },
  {
   "cell_type": "code",
   "execution_count": 14,
   "metadata": {},
   "outputs": [
    {
     "name": "stdout",
     "output_type": "stream",
     "text": [
      "Waiting on bqjob_r155b308265366b62_00000174b34191c8_1 ... (2s) Current status: DONE   \n",
      "+---------+-----------+--------+--------+\n",
      "| Morning | Afternoon | Other  | Total  |\n",
      "+---------+-----------+--------+--------+\n",
      "|  404919 |    176142 | 402587 | 983648 |\n",
      "+---------+-----------+--------+--------+\n"
     ]
    }
   ],
   "source": [
    "! bq query --use_legacy_sql=FALSE '\\\n",
    "SELECT\\\n",
    "Morning,\\\n",
    "Afternoon,\\\n",
    "Total - Morning - Afternoon AS Other,\\\n",
    "Total\\\n",
    "FROM\\\n",
    "(\\\n",
    "SELECT\\\n",
    "COUNT(trip_id) as Total,\\\n",
    "COUNT(IF( EXTRACT(HOUR FROM DATETIME_TRUNC(DATETIME(start_date), HOUR)) BETWEEN 5 AND 11, trip_id, NULL)) AS Morning,\\\n",
    "COUNT(IF( EXTRACT(HOUR FROM DATETIME_TRUNC(DATETIME(start_date), HOUR)) BETWEEN 12 AND 15, trip_id, NULL)) AS Afternoon\\\n",
    "FROM\\\n",
    "`bigquery-public-data.san_francisco.bikeshare_trips`\\\n",
    ") AS x;'\n"
   ]
  },
  {
   "cell_type": "code",
   "execution_count": 12,
   "metadata": {},
   "outputs": [
    {
     "name": "stdout",
     "output_type": "stream",
     "text": [
      "Waiting on bqjob_r46b00081ce87c4e2_00000174b33b60e9_1 ... (0s) Current status: DONE   \n",
      "+---------+--------------+---------------------+--------------------+------------------+---------------------+------------------+----------------+-------------+----------+-----------------+\n",
      "| trip_id | duration_sec |     start_date      | start_station_name | start_station_id |      end_date       | end_station_name | end_station_id | bike_number | zip_code | subscriber_type |\n",
      "+---------+--------------+---------------------+--------------------+------------------+---------------------+------------------+----------------+-------------+----------+-----------------+\n",
      "|  944732 |         2618 | 2015-09-24 17:22:00 | Mezes              |               83 | 2015-09-24 18:06:00 | Mezes            |             83 |         653 | 94063    | Customer        |\n",
      "|  984595 |         5957 | 2015-10-25 18:12:00 | Mezes              |               83 | 2015-10-25 19:51:00 | Mezes            |             83 |          52 | nil      | Customer        |\n",
      "|  984596 |         5913 | 2015-10-25 18:13:00 | Mezes              |               83 | 2015-10-25 19:51:00 | Mezes            |             83 |         121 | nil      | Customer        |\n",
      "| 1129385 |         6079 | 2016-03-18 10:33:00 | Mezes              |               83 | 2016-03-18 12:14:00 | Mezes            |             83 |         208 | 94070    | Customer        |\n",
      "| 1030383 |         5780 | 2015-12-06 10:52:00 | Mezes              |               83 | 2015-12-06 12:28:00 | Mezes            |             83 |          44 | 94064    | Customer        |\n",
      "| 1102641 |          801 | 2016-02-23 12:25:00 | Mezes              |               83 | 2016-02-23 12:39:00 | Mezes            |             83 |         174 | 93292    | Customer        |\n",
      "|  969490 |          255 | 2015-10-13 19:02:00 | Mezes              |               83 | 2015-10-13 19:07:00 | Mezes            |             83 |         650 | 94063    | Subscriber      |\n",
      "| 1129386 |         6032 | 2016-03-18 10:33:00 | Mezes              |               83 | 2016-03-18 12:13:00 | Mezes            |             83 |         155 | 94070    | Customer        |\n",
      "|  947105 |         1008 | 2015-09-26 12:57:00 | Mezes              |               83 | 2015-09-26 13:13:00 | Mezes            |             83 |         157 | 94063    | Subscriber      |\n",
      "| 1011650 |           60 | 2015-11-16 18:54:00 | Mezes              |               83 | 2015-11-16 18:55:00 | Mezes            |             83 |          35 | 94124    | Subscriber      |\n",
      "+---------+--------------+---------------------+--------------------+------------------+---------------------+------------------+----------------+-------------+----------+-----------------+\n"
     ]
    }
   ],
   "source": [
    "! bq query --use_legacy_sql=FALSE 'SELECT * FROM `bigquery-public-data.san_francisco.bikeshare_trips` LIMIT 10'"
   ]
  },
  {
   "cell_type": "code",
   "execution_count": null,
   "metadata": {},
   "outputs": [],
   "source": []
  },
  {
   "cell_type": "code",
   "execution_count": 10,
   "metadata": {},
   "outputs": [
    {
     "name": "stdout",
     "output_type": "stream",
     "text": [
      "Waiting on bqjob_r73cea82e8bb2f126_00000174b330c76f_1 ... (0s) Current status: DONE   \n",
      "+-----------------------------------------+--------------------------------------+-----------+\n",
      "|           start_station_name            |           end_station_name           | trip_freq |\n",
      "+-----------------------------------------+--------------------------------------+-----------+\n",
      "| Harry Bridges Plaza (Ferry Building)    | Embarcadero at Sansome               |      9150 |\n",
      "| San Francisco Caltrain 2 (330 Townsend) | Townsend at 7th                      |      8508 |\n",
      "| 2nd at Townsend                         | Harry Bridges Plaza (Ferry Building) |      7620 |\n",
      "| Harry Bridges Plaza (Ferry Building)    | 2nd at Townsend                      |      6888 |\n",
      "| Embarcadero at Sansome                  | Steuart at Market                    |      6874 |\n",
      "+-----------------------------------------+--------------------------------------+-----------+\n"
     ]
    }
   ],
   "source": [
    "! bq query --use_legacy_sql=FALSE 'SELECT start_station_name, end_station_name, count(*) as trip_freq FROM `bigquery-public-data.san_francisco.bikeshare_trips` GROUP BY start_station_name, end_station_name ORDER BY trip_freq DESC LIMIT 5'"
   ]
  },
  {
   "cell_type": "code",
   "execution_count": null,
   "metadata": {},
   "outputs": [],
   "source": []
  },
  {
   "cell_type": "code",
   "execution_count": null,
   "metadata": {},
   "outputs": [],
   "source": []
  },
  {
   "cell_type": "code",
   "execution_count": null,
   "metadata": {},
   "outputs": [],
   "source": []
  },
  {
   "cell_type": "code",
   "execution_count": null,
   "metadata": {},
   "outputs": [],
   "source": []
  },
  {
   "cell_type": "code",
   "execution_count": 19,
   "metadata": {},
   "outputs": [
    {
     "data": {
      "text/html": [
       "<div>\n",
       "<style scoped>\n",
       "    .dataframe tbody tr th:only-of-type {\n",
       "        vertical-align: middle;\n",
       "    }\n",
       "\n",
       "    .dataframe tbody tr th {\n",
       "        vertical-align: top;\n",
       "    }\n",
       "\n",
       "    .dataframe thead th {\n",
       "        text-align: right;\n",
       "    }\n",
       "</style>\n",
       "<table border=\"1\" class=\"dataframe\">\n",
       "  <thead>\n",
       "    <tr style=\"text-align: right;\">\n",
       "      <th></th>\n",
       "      <th>Morning</th>\n",
       "      <th>Afternoon</th>\n",
       "      <th>Other</th>\n",
       "      <th>Total</th>\n",
       "    </tr>\n",
       "  </thead>\n",
       "  <tbody>\n",
       "    <tr>\n",
       "      <th>0</th>\n",
       "      <td>404919</td>\n",
       "      <td>176142</td>\n",
       "      <td>402587</td>\n",
       "      <td>983648</td>\n",
       "    </tr>\n",
       "  </tbody>\n",
       "</table>\n",
       "</div>"
      ],
      "text/plain": [
       "   Morning  Afternoon   Other   Total\n",
       "0   404919     176142  402587  983648"
      ]
     },
     "execution_count": 19,
     "metadata": {},
     "output_type": "execute_result"
    }
   ],
   "source": [
    "%%bigquery\n",
    "\n",
    "SELECT\n",
    "    Morning,\n",
    "    Afternoon,\n",
    "    Total - Morning - Afternoon AS Other,\n",
    "    Total\n",
    "FROM\n",
    "    (\n",
    "    SELECT\n",
    "        COUNT(trip_id) as Total,\n",
    "        COUNT(IF( EXTRACT(HOUR FROM DATETIME_TRUNC(DATETIME(start_date), HOUR)) BETWEEN 5 AND 11, trip_id, NULL)) AS Morning,\n",
    "        COUNT(IF( EXTRACT(HOUR FROM DATETIME_TRUNC(DATETIME(start_date), HOUR)) BETWEEN 12 AND 15, trip_id, NULL)) AS Afternoon\n",
    "    FROM\n",
    "    `bigquery-public-data.san_francisco.bikeshare_trips`\n",
    "    ) AS x;\n"
   ]
  },
  {
   "cell_type": "markdown",
   "metadata": {},
   "source": [
    "#### NOTE TO SELF\n",
    "SAVING VIEWS IN BQ DIDN'T WORK WHEN I TRIED TO RUN A DISTINCT QUERY INSIDE A LARGER FILE\n",
    "WHEN I PUT THAT SINGLE QUERY INTO A SEPARATE FILE, IT LET ME SAVE THE VIEW\n",
    "ALSO NOTE, YOU NEED TO CREATE A DATASET INTO WHICH TO INSERT THE TABLE"
   ]
  },
  {
   "cell_type": "markdown",
   "metadata": {},
   "source": [
    "### Save trips_by_hour to a dataframe in the first cell\n",
    "Then print that dataframe out in the next"
   ]
  },
  {
   "cell_type": "code",
   "execution_count": 20,
   "metadata": {},
   "outputs": [],
   "source": [
    "%%bigquery trips_by_hour\n",
    "\n",
    "SELECT * \n",
    "FROM \n",
    "    `zinc-hall-287702.Project_1_W205.trip_per_hour`\n",
    "LIMIT 1000\n"
   ]
  },
  {
   "cell_type": "code",
   "execution_count": 21,
   "metadata": {},
   "outputs": [
    {
     "data": {
      "text/html": [
       "<div>\n",
       "<style scoped>\n",
       "    .dataframe tbody tr th:only-of-type {\n",
       "        vertical-align: middle;\n",
       "    }\n",
       "\n",
       "    .dataframe tbody tr th {\n",
       "        vertical-align: top;\n",
       "    }\n",
       "\n",
       "    .dataframe thead th {\n",
       "        text-align: right;\n",
       "    }\n",
       "</style>\n",
       "<table border=\"1\" class=\"dataframe\">\n",
       "  <thead>\n",
       "    <tr style=\"text-align: right;\">\n",
       "      <th></th>\n",
       "      <th>Hour</th>\n",
       "      <th>trips</th>\n",
       "    </tr>\n",
       "  </thead>\n",
       "  <tbody>\n",
       "    <tr>\n",
       "      <th>0</th>\n",
       "      <td>0</td>\n",
       "      <td>1696</td>\n",
       "    </tr>\n",
       "    <tr>\n",
       "      <th>1</th>\n",
       "      <td>1</td>\n",
       "      <td>797</td>\n",
       "    </tr>\n",
       "    <tr>\n",
       "      <th>2</th>\n",
       "      <td>2</td>\n",
       "      <td>420</td>\n",
       "    </tr>\n",
       "    <tr>\n",
       "      <th>3</th>\n",
       "      <td>3</td>\n",
       "      <td>427</td>\n",
       "    </tr>\n",
       "    <tr>\n",
       "      <th>4</th>\n",
       "      <td>4</td>\n",
       "      <td>1273</td>\n",
       "    </tr>\n",
       "    <tr>\n",
       "      <th>5</th>\n",
       "      <td>5</td>\n",
       "      <td>4799</td>\n",
       "    </tr>\n",
       "    <tr>\n",
       "      <th>6</th>\n",
       "      <td>6</td>\n",
       "      <td>19830</td>\n",
       "    </tr>\n",
       "    <tr>\n",
       "      <th>7</th>\n",
       "      <td>7</td>\n",
       "      <td>65900</td>\n",
       "    </tr>\n",
       "    <tr>\n",
       "      <th>8</th>\n",
       "      <td>8</td>\n",
       "      <td>128999</td>\n",
       "    </tr>\n",
       "    <tr>\n",
       "      <th>9</th>\n",
       "      <td>9</td>\n",
       "      <td>90264</td>\n",
       "    </tr>\n",
       "    <tr>\n",
       "      <th>10</th>\n",
       "      <td>10</td>\n",
       "      <td>34888</td>\n",
       "    </tr>\n",
       "    <tr>\n",
       "      <th>11</th>\n",
       "      <td>11</td>\n",
       "      <td>30712</td>\n",
       "    </tr>\n",
       "    <tr>\n",
       "      <th>12</th>\n",
       "      <td>12</td>\n",
       "      <td>36382</td>\n",
       "    </tr>\n",
       "    <tr>\n",
       "      <th>13</th>\n",
       "      <td>13</td>\n",
       "      <td>33029</td>\n",
       "    </tr>\n",
       "    <tr>\n",
       "      <th>14</th>\n",
       "      <td>14</td>\n",
       "      <td>27590</td>\n",
       "    </tr>\n",
       "    <tr>\n",
       "      <th>15</th>\n",
       "      <td>15</td>\n",
       "      <td>37424</td>\n",
       "    </tr>\n",
       "    <tr>\n",
       "      <th>16</th>\n",
       "      <td>16</td>\n",
       "      <td>79000</td>\n",
       "    </tr>\n",
       "    <tr>\n",
       "      <th>17</th>\n",
       "      <td>17</td>\n",
       "      <td>118332</td>\n",
       "    </tr>\n",
       "    <tr>\n",
       "      <th>18</th>\n",
       "      <td>18</td>\n",
       "      <td>78188</td>\n",
       "    </tr>\n",
       "    <tr>\n",
       "      <th>19</th>\n",
       "      <td>19</td>\n",
       "      <td>36584</td>\n",
       "    </tr>\n",
       "    <tr>\n",
       "      <th>20</th>\n",
       "      <td>20</td>\n",
       "      <td>19492</td>\n",
       "    </tr>\n",
       "    <tr>\n",
       "      <th>21</th>\n",
       "      <td>21</td>\n",
       "      <td>12828</td>\n",
       "    </tr>\n",
       "    <tr>\n",
       "      <th>22</th>\n",
       "      <td>22</td>\n",
       "      <td>8343</td>\n",
       "    </tr>\n",
       "    <tr>\n",
       "      <th>23</th>\n",
       "      <td>23</td>\n",
       "      <td>4797</td>\n",
       "    </tr>\n",
       "  </tbody>\n",
       "</table>\n",
       "</div>"
      ],
      "text/plain": [
       "    Hour   trips\n",
       "0      0    1696\n",
       "1      1     797\n",
       "2      2     420\n",
       "3      3     427\n",
       "4      4    1273\n",
       "5      5    4799\n",
       "6      6   19830\n",
       "7      7   65900\n",
       "8      8  128999\n",
       "9      9   90264\n",
       "10    10   34888\n",
       "11    11   30712\n",
       "12    12   36382\n",
       "13    13   33029\n",
       "14    14   27590\n",
       "15    15   37424\n",
       "16    16   79000\n",
       "17    17  118332\n",
       "18    18   78188\n",
       "19    19   36584\n",
       "20    20   19492\n",
       "21    21   12828\n",
       "22    22    8343\n",
       "23    23    4797"
      ]
     },
     "execution_count": 21,
     "metadata": {},
     "output_type": "execute_result"
    }
   ],
   "source": [
    "trips_by_hour"
   ]
  },
  {
   "cell_type": "code",
   "execution_count": null,
   "metadata": {},
   "outputs": [],
   "source": []
  },
  {
   "cell_type": "code",
   "execution_count": null,
   "metadata": {},
   "outputs": [],
   "source": []
  }
 ],
 "metadata": {
  "environment": {
   "name": "tf2-gpu.2-1.m55",
   "type": "gcloud",
   "uri": "gcr.io/deeplearning-platform-release/tf2-gpu.2-1:m55"
  },
  "kernelspec": {
   "display_name": "Python 3",
   "language": "python",
   "name": "python3"
  },
  "language_info": {
   "codemirror_mode": {
    "name": "ipython",
    "version": 3
   },
   "file_extension": ".py",
   "mimetype": "text/x-python",
   "name": "python",
   "nbconvert_exporter": "python",
   "pygments_lexer": "ipython3",
   "version": "3.7.8"
  }
 },
 "nbformat": 4,
 "nbformat_minor": 4
}
