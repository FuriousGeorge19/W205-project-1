{
 "cells": [
  {
   "cell_type": "markdown",
   "metadata": {},
   "source": [
    "### Some good test queries in here, including\n",
    "- Direct BQ SQL Queries\n",
    "- Direct Queris of views I saved in BQ"
   ]
  },
  {
   "cell_type": "code",
   "execution_count": 151,
   "metadata": {},
   "outputs": [
    {
     "name": "stdout",
     "output_type": "stream",
     "text": [
      "System:  3.7.8 | packaged by conda-forge | (default, Jul 31 2020, 02:25:08) \n",
      "[GCC 7.5.0]\n",
      "Numpy: 1.18.5\n",
      "Pandas: 1.1.1\n"
     ]
    }
   ],
   "source": [
    "import sys\n",
    "import numpy as np\n",
    "import pandas as pd\n",
    "import matplotlib.pyplot as plt\n",
    "import seaborn as sns\n",
    "import matplotlib.ticker as mtick\n",
    "import datetime as dt\n",
    "import matplotlib.dates as mdates\n",
    "\n",
    "print(\"System: \", sys.version)\n",
    "print(\"Numpy:\", np.__version__)\n",
    "print(\"Pandas:\", pd.__version__)\n",
    "\n",
    "%matplotlib inline"
   ]
  },
  {
   "cell_type": "code",
   "execution_count": 44,
   "metadata": {},
   "outputs": [],
   "source": [
    "%%capture\n",
    "!pip install google-cloud-bigquery-storage"
   ]
  },
  {
   "cell_type": "code",
   "execution_count": 152,
   "metadata": {},
   "outputs": [],
   "source": [
    "import warnings; warnings.simplefilter('ignore')"
   ]
  },
  {
   "cell_type": "code",
   "execution_count": null,
   "metadata": {},
   "outputs": [],
   "source": []
  },
  {
   "cell_type": "code",
   "execution_count": 14,
   "metadata": {},
   "outputs": [
    {
     "name": "stdout",
     "output_type": "stream",
     "text": [
      "Waiting on bqjob_r155b308265366b62_00000174b34191c8_1 ... (2s) Current status: DONE   \n",
      "+---------+-----------+--------+--------+\n",
      "| Morning | Afternoon | Other  | Total  |\n",
      "+---------+-----------+--------+--------+\n",
      "|  404919 |    176142 | 402587 | 983648 |\n",
      "+---------+-----------+--------+--------+\n"
     ]
    }
   ],
   "source": [
    "\n"
   ]
  },
  {
   "cell_type": "code",
   "execution_count": 12,
   "metadata": {},
   "outputs": [
    {
     "name": "stdout",
     "output_type": "stream",
     "text": [
      "Waiting on bqjob_r46b00081ce87c4e2_00000174b33b60e9_1 ... (0s) Current status: DONE   \n",
      "+---------+--------------+---------------------+--------------------+------------------+---------------------+------------------+----------------+-------------+----------+-----------------+\n",
      "| trip_id | duration_sec |     start_date      | start_station_name | start_station_id |      end_date       | end_station_name | end_station_id | bike_number | zip_code | subscriber_type |\n",
      "+---------+--------------+---------------------+--------------------+------------------+---------------------+------------------+----------------+-------------+----------+-----------------+\n",
      "|  944732 |         2618 | 2015-09-24 17:22:00 | Mezes              |               83 | 2015-09-24 18:06:00 | Mezes            |             83 |         653 | 94063    | Customer        |\n",
      "|  984595 |         5957 | 2015-10-25 18:12:00 | Mezes              |               83 | 2015-10-25 19:51:00 | Mezes            |             83 |          52 | nil      | Customer        |\n",
      "|  984596 |         5913 | 2015-10-25 18:13:00 | Mezes              |               83 | 2015-10-25 19:51:00 | Mezes            |             83 |         121 | nil      | Customer        |\n",
      "| 1129385 |         6079 | 2016-03-18 10:33:00 | Mezes              |               83 | 2016-03-18 12:14:00 | Mezes            |             83 |         208 | 94070    | Customer        |\n",
      "| 1030383 |         5780 | 2015-12-06 10:52:00 | Mezes              |               83 | 2015-12-06 12:28:00 | Mezes            |             83 |          44 | 94064    | Customer        |\n",
      "| 1102641 |          801 | 2016-02-23 12:25:00 | Mezes              |               83 | 2016-02-23 12:39:00 | Mezes            |             83 |         174 | 93292    | Customer        |\n",
      "|  969490 |          255 | 2015-10-13 19:02:00 | Mezes              |               83 | 2015-10-13 19:07:00 | Mezes            |             83 |         650 | 94063    | Subscriber      |\n",
      "| 1129386 |         6032 | 2016-03-18 10:33:00 | Mezes              |               83 | 2016-03-18 12:13:00 | Mezes            |             83 |         155 | 94070    | Customer        |\n",
      "|  947105 |         1008 | 2015-09-26 12:57:00 | Mezes              |               83 | 2015-09-26 13:13:00 | Mezes            |             83 |         157 | 94063    | Subscriber      |\n",
      "| 1011650 |           60 | 2015-11-16 18:54:00 | Mezes              |               83 | 2015-11-16 18:55:00 | Mezes            |             83 |          35 | 94124    | Subscriber      |\n",
      "+---------+--------------+---------------------+--------------------+------------------+---------------------+------------------+----------------+-------------+----------+-----------------+\n"
     ]
    }
   ],
   "source": [
    "! bq query --use_legacy_sql=FALSE 'SELECT * FROM `bigquery-public-data.san_francisco.bikeshare_trips` LIMIT 10'"
   ]
  },
  {
   "cell_type": "code",
   "execution_count": null,
   "metadata": {},
   "outputs": [],
   "source": []
  },
  {
   "cell_type": "code",
   "execution_count": 10,
   "metadata": {},
   "outputs": [
    {
     "name": "stdout",
     "output_type": "stream",
     "text": [
      "Waiting on bqjob_r73cea82e8bb2f126_00000174b330c76f_1 ... (0s) Current status: DONE   \n",
      "+-----------------------------------------+--------------------------------------+-----------+\n",
      "|           start_station_name            |           end_station_name           | trip_freq |\n",
      "+-----------------------------------------+--------------------------------------+-----------+\n",
      "| Harry Bridges Plaza (Ferry Building)    | Embarcadero at Sansome               |      9150 |\n",
      "| San Francisco Caltrain 2 (330 Townsend) | Townsend at 7th                      |      8508 |\n",
      "| 2nd at Townsend                         | Harry Bridges Plaza (Ferry Building) |      7620 |\n",
      "| Harry Bridges Plaza (Ferry Building)    | 2nd at Townsend                      |      6888 |\n",
      "| Embarcadero at Sansome                  | Steuart at Market                    |      6874 |\n",
      "+-----------------------------------------+--------------------------------------+-----------+\n"
     ]
    }
   ],
   "source": [
    "! bq query --use_legacy_sql=FALSE 'SELECT start_station_name, end_station_name, count(*) as trip_freq FROM `bigquery-public-data.san_francisco.bikeshare_trips` GROUP BY start_station_name, end_station_name ORDER BY trip_freq DESC LIMIT 5'"
   ]
  },
  {
   "cell_type": "code",
   "execution_count": null,
   "metadata": {},
   "outputs": [],
   "source": []
  },
  {
   "cell_type": "code",
   "execution_count": null,
   "metadata": {},
   "outputs": [],
   "source": []
  },
  {
   "cell_type": "code",
   "execution_count": null,
   "metadata": {},
   "outputs": [],
   "source": []
  },
  {
   "cell_type": "code",
   "execution_count": null,
   "metadata": {},
   "outputs": [],
   "source": [
    "# This provides # of trips for morning and afternoon"
   ]
  },
  {
   "cell_type": "code",
   "execution_count": 19,
   "metadata": {},
   "outputs": [
    {
     "data": {
      "text/html": [
       "<div>\n",
       "<style scoped>\n",
       "    .dataframe tbody tr th:only-of-type {\n",
       "        vertical-align: middle;\n",
       "    }\n",
       "\n",
       "    .dataframe tbody tr th {\n",
       "        vertical-align: top;\n",
       "    }\n",
       "\n",
       "    .dataframe thead th {\n",
       "        text-align: right;\n",
       "    }\n",
       "</style>\n",
       "<table border=\"1\" class=\"dataframe\">\n",
       "  <thead>\n",
       "    <tr style=\"text-align: right;\">\n",
       "      <th></th>\n",
       "      <th>Morning</th>\n",
       "      <th>Afternoon</th>\n",
       "      <th>Other</th>\n",
       "      <th>Total</th>\n",
       "    </tr>\n",
       "  </thead>\n",
       "  <tbody>\n",
       "    <tr>\n",
       "      <th>0</th>\n",
       "      <td>404919</td>\n",
       "      <td>176142</td>\n",
       "      <td>402587</td>\n",
       "      <td>983648</td>\n",
       "    </tr>\n",
       "  </tbody>\n",
       "</table>\n",
       "</div>"
      ],
      "text/plain": [
       "   Morning  Afternoon   Other   Total\n",
       "0   404919     176142  402587  983648"
      ]
     },
     "execution_count": 19,
     "metadata": {},
     "output_type": "execute_result"
    }
   ],
   "source": [
    "%%bigquery\n",
    "\n",
    "SELECT\n",
    "    Morning,\n",
    "    Afternoon,\n",
    "    Total - Morning - Afternoon AS Other,\n",
    "    Total\n",
    "FROM\n",
    "    (\n",
    "    SELECT\n",
    "        COUNT(trip_id) as Total,\n",
    "        COUNT(IF( EXTRACT(HOUR FROM DATETIME_TRUNC(DATETIME(start_date), HOUR)) BETWEEN 5 AND 11, trip_id, NULL)) AS Morning,\n",
    "        COUNT(IF( EXTRACT(HOUR FROM DATETIME_TRUNC(DATETIME(start_date), HOUR)) BETWEEN 12 AND 15, trip_id, NULL)) AS Afternoon\n",
    "    FROM\n",
    "    `bigquery-public-data.san_francisco.bikeshare_trips`\n",
    "    ) AS x;\n"
   ]
  },
  {
   "cell_type": "markdown",
   "metadata": {},
   "source": [
    "#### NOTE TO SELF\n",
    "SAVING VIEWS IN BQ DIDN'T WORK WHEN I TRIED TO RUN A DISTINCT QUERY INSIDE A LARGER FILE\n",
    "WHEN I PUT THAT SINGLE QUERY INTO A SEPARATE FILE, IT LET ME SAVE THE VIEW\n",
    "ALSO NOTE, YOU NEED TO CREATE A DATASET INTO WHICH TO INSERT THE TABLE"
   ]
  },
  {
   "cell_type": "markdown",
   "metadata": {},
   "source": [
    "### Save trips_by_hour to a dataframe in the first cell\n",
    "Then print that dataframe out in the next"
   ]
  },
  {
   "cell_type": "code",
   "execution_count": 20,
   "metadata": {},
   "outputs": [],
   "source": [
    "%%bigquery trips_by_hour\n",
    "\n",
    "SELECT * \n",
    "FROM \n",
    "    `zinc-hall-287702.Project_1_W205.trip_per_hour`\n",
    "LIMIT 1000\n"
   ]
  },
  {
   "cell_type": "code",
   "execution_count": 21,
   "metadata": {},
   "outputs": [
    {
     "data": {
      "text/html": [
       "<div>\n",
       "<style scoped>\n",
       "    .dataframe tbody tr th:only-of-type {\n",
       "        vertical-align: middle;\n",
       "    }\n",
       "\n",
       "    .dataframe tbody tr th {\n",
       "        vertical-align: top;\n",
       "    }\n",
       "\n",
       "    .dataframe thead th {\n",
       "        text-align: right;\n",
       "    }\n",
       "</style>\n",
       "<table border=\"1\" class=\"dataframe\">\n",
       "  <thead>\n",
       "    <tr style=\"text-align: right;\">\n",
       "      <th></th>\n",
       "      <th>Hour</th>\n",
       "      <th>trips</th>\n",
       "    </tr>\n",
       "  </thead>\n",
       "  <tbody>\n",
       "    <tr>\n",
       "      <th>0</th>\n",
       "      <td>0</td>\n",
       "      <td>1696</td>\n",
       "    </tr>\n",
       "    <tr>\n",
       "      <th>1</th>\n",
       "      <td>1</td>\n",
       "      <td>797</td>\n",
       "    </tr>\n",
       "    <tr>\n",
       "      <th>2</th>\n",
       "      <td>2</td>\n",
       "      <td>420</td>\n",
       "    </tr>\n",
       "    <tr>\n",
       "      <th>3</th>\n",
       "      <td>3</td>\n",
       "      <td>427</td>\n",
       "    </tr>\n",
       "    <tr>\n",
       "      <th>4</th>\n",
       "      <td>4</td>\n",
       "      <td>1273</td>\n",
       "    </tr>\n",
       "    <tr>\n",
       "      <th>5</th>\n",
       "      <td>5</td>\n",
       "      <td>4799</td>\n",
       "    </tr>\n",
       "    <tr>\n",
       "      <th>6</th>\n",
       "      <td>6</td>\n",
       "      <td>19830</td>\n",
       "    </tr>\n",
       "    <tr>\n",
       "      <th>7</th>\n",
       "      <td>7</td>\n",
       "      <td>65900</td>\n",
       "    </tr>\n",
       "    <tr>\n",
       "      <th>8</th>\n",
       "      <td>8</td>\n",
       "      <td>128999</td>\n",
       "    </tr>\n",
       "    <tr>\n",
       "      <th>9</th>\n",
       "      <td>9</td>\n",
       "      <td>90264</td>\n",
       "    </tr>\n",
       "    <tr>\n",
       "      <th>10</th>\n",
       "      <td>10</td>\n",
       "      <td>34888</td>\n",
       "    </tr>\n",
       "    <tr>\n",
       "      <th>11</th>\n",
       "      <td>11</td>\n",
       "      <td>30712</td>\n",
       "    </tr>\n",
       "    <tr>\n",
       "      <th>12</th>\n",
       "      <td>12</td>\n",
       "      <td>36382</td>\n",
       "    </tr>\n",
       "    <tr>\n",
       "      <th>13</th>\n",
       "      <td>13</td>\n",
       "      <td>33029</td>\n",
       "    </tr>\n",
       "    <tr>\n",
       "      <th>14</th>\n",
       "      <td>14</td>\n",
       "      <td>27590</td>\n",
       "    </tr>\n",
       "    <tr>\n",
       "      <th>15</th>\n",
       "      <td>15</td>\n",
       "      <td>37424</td>\n",
       "    </tr>\n",
       "    <tr>\n",
       "      <th>16</th>\n",
       "      <td>16</td>\n",
       "      <td>79000</td>\n",
       "    </tr>\n",
       "    <tr>\n",
       "      <th>17</th>\n",
       "      <td>17</td>\n",
       "      <td>118332</td>\n",
       "    </tr>\n",
       "    <tr>\n",
       "      <th>18</th>\n",
       "      <td>18</td>\n",
       "      <td>78188</td>\n",
       "    </tr>\n",
       "    <tr>\n",
       "      <th>19</th>\n",
       "      <td>19</td>\n",
       "      <td>36584</td>\n",
       "    </tr>\n",
       "    <tr>\n",
       "      <th>20</th>\n",
       "      <td>20</td>\n",
       "      <td>19492</td>\n",
       "    </tr>\n",
       "    <tr>\n",
       "      <th>21</th>\n",
       "      <td>21</td>\n",
       "      <td>12828</td>\n",
       "    </tr>\n",
       "    <tr>\n",
       "      <th>22</th>\n",
       "      <td>22</td>\n",
       "      <td>8343</td>\n",
       "    </tr>\n",
       "    <tr>\n",
       "      <th>23</th>\n",
       "      <td>23</td>\n",
       "      <td>4797</td>\n",
       "    </tr>\n",
       "  </tbody>\n",
       "</table>\n",
       "</div>"
      ],
      "text/plain": [
       "    Hour   trips\n",
       "0      0    1696\n",
       "1      1     797\n",
       "2      2     420\n",
       "3      3     427\n",
       "4      4    1273\n",
       "5      5    4799\n",
       "6      6   19830\n",
       "7      7   65900\n",
       "8      8  128999\n",
       "9      9   90264\n",
       "10    10   34888\n",
       "11    11   30712\n",
       "12    12   36382\n",
       "13    13   33029\n",
       "14    14   27590\n",
       "15    15   37424\n",
       "16    16   79000\n",
       "17    17  118332\n",
       "18    18   78188\n",
       "19    19   36584\n",
       "20    20   19492\n",
       "21    21   12828\n",
       "22    22    8343\n",
       "23    23    4797"
      ]
     },
     "execution_count": 21,
     "metadata": {},
     "output_type": "execute_result"
    }
   ],
   "source": [
    "trips_by_hour"
   ]
  },
  {
   "cell_type": "code",
   "execution_count": 38,
   "metadata": {},
   "outputs": [
    {
     "data": {
      "text/plain": [
       "<BarContainer object of 24 artists>"
      ]
     },
     "execution_count": 38,
     "metadata": {},
     "output_type": "execute_result"
    },
    {
     "data": {
      "image/png": "[encoded data removed]",
      "text/plain": [
       "<Figure size 432x288 with 1 Axes>"
      ]
     },
     "metadata": {
      "needs_background": "light"
     },
     "output_type": "display_data"
    }
   ],
   "source": [
    "plt.bar(trips_by_hour.Hour, trips_by_hour.trips)"
   ]
  },
  {
   "cell_type": "code",
   "execution_count": null,
   "metadata": {},
   "outputs": [],
   "source": [
    "# This pulls the percentiles of ride duration, w/outliers removed"
   ]
  },
  {
   "cell_type": "code",
   "execution_count": 47,
   "metadata": {},
   "outputs": [],
   "source": [
    "%%bigquery aframe\n",
    "\n",
    "SELECT approx_quantiles(duration_sec/60, 100) AS percentiles\n",
    "FROM `bigquery-public-data.san_francisco.bikeshare_trips`\n",
    "WHERE (duration_sec/60 > 2) AND (duration_sec/3600 < 48)\n"
   ]
  },
  {
   "cell_type": "code",
   "execution_count": 40,
   "metadata": {},
   "outputs": [],
   "source": [
    "pct_df = pd.DataFrame(aframe[\"percentiles\"][0])"
   ]
  },
  {
   "cell_type": "code",
   "execution_count": 41,
   "metadata": {},
   "outputs": [
    {
     "data": {
      "text/html": [
       "<div>\n",
       "<style scoped>\n",
       "    .dataframe tbody tr th:only-of-type {\n",
       "        vertical-align: middle;\n",
       "    }\n",
       "\n",
       "    .dataframe tbody tr th {\n",
       "        vertical-align: top;\n",
       "    }\n",
       "\n",
       "    .dataframe thead th {\n",
       "        text-align: right;\n",
       "    }\n",
       "</style>\n",
       "<table border=\"1\" class=\"dataframe\">\n",
       "  <thead>\n",
       "    <tr style=\"text-align: right;\">\n",
       "      <th></th>\n",
       "      <th>0</th>\n",
       "    </tr>\n",
       "  </thead>\n",
       "  <tbody>\n",
       "    <tr>\n",
       "      <th>0</th>\n",
       "      <td>2.016667</td>\n",
       "    </tr>\n",
       "    <tr>\n",
       "      <th>1</th>\n",
       "      <td>2.516667</td>\n",
       "    </tr>\n",
       "    <tr>\n",
       "      <th>2</th>\n",
       "      <td>2.833333</td>\n",
       "    </tr>\n",
       "    <tr>\n",
       "      <th>3</th>\n",
       "      <td>3.066667</td>\n",
       "    </tr>\n",
       "    <tr>\n",
       "      <th>4</th>\n",
       "      <td>3.250000</td>\n",
       "    </tr>\n",
       "  </tbody>\n",
       "</table>\n",
       "</div>"
      ],
      "text/plain": [
       "          0\n",
       "0  2.016667\n",
       "1  2.516667\n",
       "2  2.833333\n",
       "3  3.066667\n",
       "4  3.250000"
      ]
     },
     "execution_count": 41,
     "metadata": {},
     "output_type": "execute_result"
    }
   ],
   "source": [
    "pct_df.head()"
   ]
  },
  {
   "cell_type": "code",
   "execution_count": null,
   "metadata": {},
   "outputs": [],
   "source": []
  },
  {
   "cell_type": "code",
   "execution_count": null,
   "metadata": {},
   "outputs": [],
   "source": []
  },
  {
   "cell_type": "markdown",
   "metadata": {},
   "source": [
    "### WRITEUP STARTS HERE"
   ]
  },
  {
   "cell_type": "markdown",
   "metadata": {},
   "source": [
    "***\n",
    "- COUNT OF TOTAL TRIPS PER MONTH, FILTERED FOR OUTLIERS IN RIDE DURATION\n",
    "- ELIMINATE trips <= 2 MINUTES FROM DATA AS THEY'RE MOST LIKELY MISTAKES\n",
    "- ELIMINATE trips > 48 HOURS AS THEY ARE EITHER EXTREME OUTLIERS OR ERRORS\n",
    "- DIDN'T MAKE MUCH OF A DIFFERENCE AS THEY'RE A VANISHINGLY SMALL PCT OF TOTAL\n",
    "***"
   ]
  },
  {
   "cell_type": "code",
   "execution_count": 53,
   "metadata": {},
   "outputs": [],
   "source": [
    "%%bigquery monthly_trips\n",
    "\n",
    "SELECT\n",
    "    DATE_SUB(DATE_ADD(DATE_TRUNC(DATE(start_date), MONTH),INTERVAL 1 MONTH), INTERVAL 1 DAY) AS Month,\n",
    "    COUNT(trip_id) AS trips\n",
    "FROM `bigquery-public-data.san_francisco.bikeshare_trips`\n",
    "WHERE (duration_sec/60 > 2) AND (duration_sec/3600 < 48) \n",
    "GROUP BY 1 \n",
    "ORDER BY 1"
   ]
  },
  {
   "cell_type": "code",
   "execution_count": null,
   "metadata": {},
   "outputs": [],
   "source": [
    "# Convert string dates to datetime & subset partial month Aug-13 out of dataset\n",
    "monthly_trips['Month'] = pd.to_datetime(monthly_trips['Month'])\n",
    "monthly_trips = monthly_trips[ monthly_trips['Month'] > \"2013-08-31\" ]\n",
    "monthly_trips.set_index('Month', inplace = True)"
   ]
  },
  {
   "cell_type": "code",
   "execution_count": 112,
   "metadata": {},
   "outputs": [],
   "source": [
    "#monthly_trips.drop(columns=['pct_12'], inplace = True)"
   ]
  },
  {
   "cell_type": "code",
   "execution_count": 114,
   "metadata": {},
   "outputs": [],
   "source": [
    "monthly_trips['rolling_12'] = monthly_trips.trips.rolling(12, min_periods=6).mean()\n"
   ]
  },
  {
   "cell_type": "markdown",
   "metadata": {},
   "source": [
    "***\n",
    "- SUM OF TOTAL TRIP DURATION PER MONTH, MEASURED IN MINUTES\n",
    "- FILTERED FOR OUTLIERS IN RIDE DURATION\n",
    "- ELIMINATE trips <= 2 MINUTES FROM DATA AS THEY'RE MOST LIKELY MISTAKES\n",
    "- ELIMINATE trips > 48 HOURS AS THEY ARE EITHER EXTREME OUTLIERS OR ERRORS\n",
    "- DIDN'T MAKE MUCH OF A DIFFERENCE AS THEY'RE A VANISHINGLY SMALL PCT OF TOTAL\n",
    "***"
   ]
  },
  {
   "cell_type": "code",
   "execution_count": 160,
   "metadata": {},
   "outputs": [],
   "source": [
    "%%bigquery monthly_duration\n",
    "\n",
    "SELECT\n",
    "  DATE_SUB(DATE_ADD(DATE_TRUNC(DATE(start_date), MONTH), INTERVAL 1 MONTH), INTERVAL 1 DAY) AS Month,\n",
    "  SUM(duration_sec)/60 AS duration_minutes\n",
    "FROM `bigquery-public-data.san_francisco.bikeshare_trips`\n",
    "WHERE (duration_sec/60 > 2) AND (duration_sec/3600 < 48)\n",
    "GROUP BY 1 \n",
    "ORDER BY 1"
   ]
  },
  {
   "cell_type": "code",
   "execution_count": 161,
   "metadata": {},
   "outputs": [],
   "source": [
    "# Convert string dates to datetime & subset partial month Aug-13 out of dataset\n",
    "monthly_duration['Month'] = pd.to_datetime(monthly_duration['Month'])\n",
    "monthly_duration = monthly_duration[ monthly_duration['Month'] > \"2013-08-31\" ]\n",
    "monthly_duration.set_index('Month', inplace = True)\n",
    "monthly_duration['rolling_12'] = monthly_duration.duration_minutes.rolling(12, min_periods=6).mean()"
   ]
  },
  {
   "cell_type": "markdown",
   "metadata": {},
   "source": [
    "***\n",
    "AGGREGATE TRIPS PER HOUR ON WEEKDAYS TO SEE IF TIME ZONE CODE IS SUSPICIOUS.\n",
    "IT'S PRETTY CLEAR THE TIME ZONE REPRESENTED AS UTC IS ACTUALLY PST.\n",
    "AGGREGATE TRIPS PER HOUR SO WE CAN SEE WHERE TRIPS ARE CONCENTRATED AND \n",
    "HOPEFULLY IDENTIY COMMUTE HOURS BETWEEN MONDAY & FRIDAY.\n",
    "***"
   ]
  },
  {
   "cell_type": "code",
   "execution_count": 162,
   "metadata": {},
   "outputs": [],
   "source": [
    "%%bigquery trips_per_hour\n",
    "\n",
    "SELECT\n",
    "  EXTRACT(HOUR FROM DATETIME_TRUNC(DATETIME(start_date), HOUR)) AS Hour,\n",
    "  COUNT(DISTINCT trip_id) AS trips, \n",
    "FROM\n",
    "  `bigquery-public-data.san_francisco.bikeshare_trips`\n",
    "WHERE\n",
    "  EXTRACT(DAYOFWEEK FROM start_date) BETWEEN 2 AND 6\n",
    "GROUP BY\n",
    "  1\n",
    "ORDER BY\n",
    "  1;"
   ]
  },
  {
   "cell_type": "code",
   "execution_count": 165,
   "metadata": {},
   "outputs": [],
   "source": [
    "trips_per_hour.set_index('Hour', inplace = True)"
   ]
  },
  {
   "cell_type": "markdown",
   "metadata": {},
   "source": [
    "***\n",
    "CREATE A DF W/COMMUTE & TOTAL TRIPS, BY MONTH\n",
    "WANT TWO OR THREE COLUMNS\n",
    "COMMUTE TRIPS, TOTAL TRIPS\n",
    "COMMUTE DEFINITION:\n",
    "TRIPS BETWEEN M-F\n",
    "TRIPS BETWEEN 7AM-10AM, 4PM-7PM\n",
    "***"
   ]
  },
  {
   "cell_type": "code",
   "execution_count": 299,
   "metadata": {},
   "outputs": [],
   "source": [
    "%%bigquery commute_vs_total_trips\n",
    "  \n",
    "SELECT \n",
    "    MONTH, COUNT(DISTINCT commuter_trips), COUNT(DISTINCT total_trips)\n",
    "FROM\n",
    "(\n",
    "  SELECT\n",
    "    trip_id AS total_trips,        \n",
    "    CASE WHEN \n",
    "      (duration_sec/60 > 2) AND (duration_sec/3600 < 48) AND  \n",
    "      ((EXTRACT(HOUR FROM DATETIME_TRUNC(DATETIME(start_date), HOUR)) BETWEEN 7 AND 9) OR\n",
    "      (EXTRACT(HOUR FROM DATETIME_TRUNC(DATETIME(start_date), HOUR)) BETWEEN 16 AND 18)) \n",
    "\n",
    "      AND EXTRACT(DAYOFWEEK FROM start_date) BETWEEN 2 AND 6 \n",
    "      THEN trip_id\n",
    "      ELSE NULL\n",
    "      END\n",
    "      AS commuter_trips,                          \n",
    "    DATE_SUB(DATE_ADD(DATE_TRUNC(DATE(start_date, 'America/Los_Angeles'), MONTH), INTERVAL 1 MONTH), INTERVAL 1 DAY) AS Month\n",
    "      \n",
    "    FROM `bigquery-public-data.san_francisco.bikeshare_trips`\n",
    ") \n",
    "GROUP BY 1\n",
    "ORDER BY 1;\n"
   ]
  },
  {
   "cell_type": "code",
   "execution_count": null,
   "metadata": {},
   "outputs": [],
   "source": []
  },
  {
   "cell_type": "markdown",
   "metadata": {},
   "source": [
    "***\n",
    "CREATE TABLE TO LOOK @ MORNING/EVENING BREAKOUT OF COMMUTE TRIPS\n",
    "***"
   ]
  },
  {
   "cell_type": "code",
   "execution_count": 344,
   "metadata": {},
   "outputs": [],
   "source": [
    "%%bigquery commute_am_vs_pm\n",
    "  \n",
    "SELECT \n",
    "    COUNT(DISTINCT commuter_trips_am), COUNT(DISTINCT commuter_trips_pm), COUNT(DISTINCT commuter_trips_tot)\n",
    "FROM\n",
    "(\n",
    "  SELECT\n",
    "    trip_id AS total_trips,        \n",
    "    \n",
    "    CASE WHEN \n",
    "        (duration_sec/60 > 2) AND (duration_sec/3600 < 48) AND  \n",
    "        (EXTRACT(HOUR FROM DATETIME_TRUNC(DATETIME(start_date), HOUR)) BETWEEN 7 AND 9) AND\n",
    "        EXTRACT(DAYOFWEEK FROM start_date) BETWEEN 2 AND 6 \n",
    "      THEN trip_id\n",
    "        ELSE NULL\n",
    "      END\n",
    "      AS commuter_trips_am,                          \n",
    "    \n",
    "    CASE WHEN \n",
    "        (duration_sec/60 > 2) AND (duration_sec/3600 < 48) AND  \n",
    "        (EXTRACT(HOUR FROM DATETIME_TRUNC(DATETIME(start_date), HOUR)) BETWEEN 16 AND 18)\n",
    "        AND EXTRACT(DAYOFWEEK FROM start_date) BETWEEN 2 AND 6 \n",
    "      THEN trip_id\n",
    "        ELSE NULL\n",
    "      END\n",
    "      AS commuter_trips_pm,       \n",
    "\n",
    "    CASE WHEN \n",
    "        (duration_sec/60 > 2) AND (duration_sec/3600 < 48) AND          \n",
    "        \n",
    "        ((EXTRACT(HOUR FROM DATETIME_TRUNC(DATETIME(start_date), HOUR)) BETWEEN 7 AND 9)  OR\n",
    "        (EXTRACT(HOUR FROM DATETIME_TRUNC(DATETIME(start_date), HOUR)) BETWEEN 16 AND 18))  \n",
    "              \n",
    "        AND EXTRACT(DAYOFWEEK FROM start_date) BETWEEN 2 AND 6 \n",
    "      THEN trip_id\n",
    "        ELSE NULL\n",
    "      END\n",
    "      AS commuter_trips_tot,      \n",
    "\n",
    "    DATE_SUB(DATE_ADD(DATE_TRUNC(DATE(start_date, 'America/Los_Angeles'), MONTH), INTERVAL 1 MONTH), INTERVAL 1 DAY) AS Month\n",
    "\n",
    "    FROM `bigquery-public-data.san_francisco.bikeshare_trips`\n",
    ") \n"
   ]
  },
  {
   "cell_type": "code",
   "execution_count": null,
   "metadata": {},
   "outputs": [],
   "source": []
  },
  {
   "cell_type": "code",
   "execution_count": null,
   "metadata": {},
   "outputs": [],
   "source": []
  },
  {
   "cell_type": "code",
   "execution_count": null,
   "metadata": {},
   "outputs": [],
   "source": []
  },
  {
   "cell_type": "code",
   "execution_count": null,
   "metadata": {},
   "outputs": [],
   "source": []
  },
  {
   "cell_type": "code",
   "execution_count": null,
   "metadata": {},
   "outputs": [],
   "source": []
  },
  {
   "cell_type": "code",
   "execution_count": null,
   "metadata": {},
   "outputs": [],
   "source": []
  },
  {
   "cell_type": "code",
   "execution_count": null,
   "metadata": {},
   "outputs": [],
   "source": []
  },
  {
   "cell_type": "code",
   "execution_count": null,
   "metadata": {},
   "outputs": [],
   "source": []
  },
  {
   "cell_type": "code",
   "execution_count": null,
   "metadata": {},
   "outputs": [],
   "source": []
  },
  {
   "cell_type": "code",
   "execution_count": null,
   "metadata": {},
   "outputs": [],
   "source": []
  },
  {
   "cell_type": "code",
   "execution_count": null,
   "metadata": {},
   "outputs": [],
   "source": []
  },
  {
   "cell_type": "code",
   "execution_count": null,
   "metadata": {},
   "outputs": [],
   "source": []
  },
  {
   "cell_type": "code",
   "execution_count": null,
   "metadata": {},
   "outputs": [],
   "source": []
  },
  {
   "cell_type": "code",
   "execution_count": null,
   "metadata": {},
   "outputs": [],
   "source": []
  },
  {
   "cell_type": "code",
   "execution_count": null,
   "metadata": {},
   "outputs": [],
   "source": []
  },
  {
   "cell_type": "markdown",
   "metadata": {},
   "source": [
    "***\n",
    "  \n",
    "### Project goal: Increase ridership\n",
    "  \n",
    "***\n",
    "To that end, we'll start with two measures of ridership. The first measure is just the number of trips per month.\n",
    "***\n",
    "As you can see below, the 12-month moving average, which attempts to adjust for  \n",
    "significant seasonal variation, declined approximately 11% between Aug-2015 and Aug-2016.  \n",
    "Additionally, there's little growth to speak of over the entire time frame.\n",
    "\n",
    "***"
   ]
  },
  {
   "cell_type": "code",
   "execution_count": 153,
   "metadata": {
    "jupyter": {
     "source_hidden": true
    }
   },
   "outputs": [
    {
     "data": {
      "image/png": "[encoded data removed]",
      "text/plain": [
       "<Figure size 1008x432 with 1 Axes>"
      ]
     },
     "metadata": {},
     "output_type": "display_data"
    }
   ],
   "source": [
    "\n",
    "sns.set_context(\"paper\", font_scale = 2, rc={\"grid.linewidth\": 0.5})\n",
    "sns.set_style(\"darkgrid\")\n",
    "fig1, ax1 = plt.subplots(figsize = (14,6))\n",
    "\n",
    "sns.lineplot(data = monthly_trips.trips/1000, ax = ax1,  color = 'darkviolet', dashes=[':'], label = \"Monthly Trips\" , legend = False )\n",
    "sns.lineplot(data = monthly_trips.rolling_12/1000, ax = ax1, color = 'darkgreen',  label = \"12M Moving Avg.\", legend = False )\n",
    "\n",
    "ax1.lines[0].set_linestyle(\":\")\n",
    "\n",
    "leg = ax1.legend()\n",
    "ax1.set_ylabel('Monthly Trips (000s)\\n')\n",
    "ax1.set_title(\"Bike Ridership, Adjusted for Seasonality, Steadily Declined Between 2013-2016\\n\", size = 20)\n",
    "\n",
    "fmt = '%b-%y' # Format you want the ticks, e.g. '40%'\n",
    "ax1.set_xticklabels(ax1.get_xticklabels(), rotation=45, ha='right', size = 15)    \n",
    "ax1.xaxis.set_major_formatter(mdates.DateFormatter(fmt))\n",
    "leg = ax1.legend()\n"
   ]
  },
  {
   "cell_type": "markdown",
   "metadata": {},
   "source": [
    "***\n",
    "The second measure is the total time spent on bikes. This allows us to \n",
    "go a little beyond the number of trips and account for actual usage. \n",
    "***"
   ]
  },
  {
   "cell_type": "code",
   "execution_count": 154,
   "metadata": {
    "jupyter": {
     "source_hidden": true
    }
   },
   "outputs": [
    {
     "data": {
      "image/png": "[encoded data removed]",
      "text/plain": [
       "<Figure size 1008x432 with 1 Axes>"
      ]
     },
     "metadata": {},
     "output_type": "display_data"
    }
   ],
   "source": [
    "\n",
    "sns.set_context(\"paper\", font_scale = 2, rc={\"grid.linewidth\": 0.5})\n",
    "sns.set_style(\"darkgrid\")\n",
    "fig1, ax1 = plt.subplots(figsize = (14,6))\n",
    "\n",
    "sns.lineplot(data = monthly_duration.duration_minutes/60000, ax = ax1,  color = 'darkviolet', dashes=[':'], label = \"Monthly Duration\" , legend = False )\n",
    "sns.lineplot(data = monthly_duration.rolling_12/60000, ax = ax1, color = 'darkgreen',  label = \"12M Moving Avg.\", legend = False )\n",
    "\n",
    "ax1.lines[0].set_linestyle(\":\")\n",
    "\n",
    "leg = ax1.legend()\n",
    "ax1.set_ylabel('Monthly Hours of Bike Usage (000s)\\n')\n",
    "ax1.set_title(\"Total Hours of Bike Usage Declined ~21% Over\\n the Same Time Period That Trips Declined ~11% \\n\", size = 20)\n",
    "\n",
    "fmt = '%b-%y' # Format you want the ticks, e.g. '40%'\n",
    "ax1.set_xticklabels(ax1.get_xticklabels(), rotation=45, ha='right', size = 15)    \n",
    "ax1.xaxis.set_major_formatter(mdates.DateFormatter(fmt))\n",
    "leg = ax1.legend()\n"
   ]
  },
  {
   "cell_type": "markdown",
   "metadata": {},
   "source": [
    "***\n",
    "As shown above, usage, as measured by hours spent on the bike, shows an even steeper \n",
    "decline over the last 12 months than usage as measured by trips\n",
    "***"
   ]
  },
  {
   "cell_type": "markdown",
   "metadata": {},
   "source": [
    "***\n",
    "One of the areas of focus is commute trips. To understand commute trips better, we'd like to see how hourly trips are distributed over weekdays so we can DEFINE what commute hours are.\n",
    "***"
   ]
  },
  {
   "cell_type": "code",
   "execution_count": 191,
   "metadata": {
    "jupyter": {
     "source_hidden": true
    }
   },
   "outputs": [
    {
     "data": {
      "text/plain": [
       "Text(0.5, 0, '\\nTime of Day')"
      ]
     },
     "execution_count": 191,
     "metadata": {},
     "output_type": "execute_result"
    },
    {
     "data": {
      "image/png": "[encoded data removed]",
      "text/plain": [
       "<Figure size 1008x576 with 1 Axes>"
      ]
     },
     "metadata": {},
     "output_type": "display_data"
    }
   ],
   "source": [
    "\n",
    "fig, ax = plt.subplots(figsize = (14,8))\n",
    "\n",
    "# https://www.geeksforgeeks.org/bar-plot-in-matplotlib/\n",
    "\n",
    "width = 0.8  # the width of the bars\n",
    "\n",
    "# height of bars\n",
    "trips = trips_per_hour.trips\n",
    "\n",
    "# position of bars\n",
    "br1 = np.arange(len(trips_per_hour.index))\n",
    "\n",
    "# colors: https://www.colorhexa.com/002fa7\n",
    "# plot '#1e5dff'\n",
    "\n",
    "\n",
    "ax.bar(br1, trips/1000, color = [0,.4,0,.7], width = 0.8*width, label=\"\" )\n",
    "\n",
    "\n",
    "ax.set_xticks([r + width/2 for r in range(len(trips_per_hour))]) \n",
    "ax.set_xticklabels(trips_per_hour.index) \n",
    "ax.set_xticklabels(ax.get_xticklabels(), rotation=45, ha='right') \n",
    "\n",
    "\n",
    "ax.set_title(\"Trips Each Hour During Weekdays\")\n",
    "\n",
    "ax.set_title(\"During Weekdays, This Chart Shows Morning Trips Peak\\nBetween 7AM-10AM and Evening Trips Between 4PM-7PM\")\n",
    "\n",
    "ax.set_ylabel(\"Trips Per Hour (000s)\")\n",
    "ax.set_xlabel(\"\\nTime of Day\")\n"
   ]
  },
  {
   "cell_type": "markdown",
   "metadata": {},
   "source": [
    "***\n",
    "As the above chart shows, 7AM-10AM & 4PM-7PM between Monday and Friday are when trips peak\n",
    "We'll use those time periods as part of our definition of commute hours\n",
    "***"
   ]
  },
  {
   "cell_type": "markdown",
   "metadata": {},
   "source": [
    "### CREATE TABLE, TRIPS DURING THIS TIME OF DAY AS % OF TOTAL"
   ]
  },
  {
   "cell_type": "markdown",
   "metadata": {},
   "source": [
    "### CREATE TABLE SHOWING MOST POPULAR COMMUTE TRIPS"
   ]
  },
  {
   "cell_type": "markdown",
   "metadata": {},
   "source": [
    "### CREATE TABLE SHOWING MOST POPULAR TRIPS DURING COMMUTE HOURS, AS WELL AS MORNING/EVENING SPLIT"
   ]
  },
  {
   "cell_type": "markdown",
   "metadata": {},
   "source": [
    "***\n",
    "It's assumed that commuter trips are important, but we should measure what percentage commuter trips represent of the all trips to see exactly how important they are.\n",
    "***"
   ]
  },
  {
   "cell_type": "code",
   "execution_count": 300,
   "metadata": {
    "jupyter": {
     "source_hidden": true
    }
   },
   "outputs": [],
   "source": [
    "# Convert string dates to datetime & subset partial month Aug-13 out of dataset\n",
    "commute_vs_total_trips['MONTH'] = pd.to_datetime(commute_vs_total_trips['MONTH'])\n",
    "commute_vs_total_trips = commute_vs_total_trips[ commute_vs_total_trips['MONTH'] > \"2013-08-31\" ]\n",
    "commute_vs_total_trips.set_index('MONTH', inplace = True)\n",
    "\n",
    "# Give the Columns accurate names\n",
    "commute_vs_total_trips.rename(columns={\"f0_\": \"Commuter_Trips\", \"f1_\": \"Total_Trips\"}, inplace=True)\n",
    "\n"
   ]
  },
  {
   "cell_type": "code",
   "execution_count": null,
   "metadata": {
    "jupyter": {
     "source_hidden": true
    }
   },
   "outputs": [],
   "source": [
    "# Create a custom date range columns for 12 month periods ending in August\n",
    "\n",
    "date_list = [('2013-09-30', '2014-08-31'), ('2014-09-30', '2015-08-31'), ('2015-09-30', '2016-08-31')]\n",
    "commute_vs_total_trips.insert (0, 'Year_Ending', np.NaN)\n",
    "\n",
    "for dates in date_list:\n",
    "    is_between = (commute_vs_total_trips.index >= dates[0]) & (commute_vs_total_trips.index <= dates[1]) \n",
    "    commute_vs_total_trips.Year_Ending[is_between] = dates[1]"
   ]
  },
  {
   "cell_type": "code",
   "execution_count": 348,
   "metadata": {
    "jupyter": {
     "source_hidden": true
    }
   },
   "outputs": [
    {
     "data": {
      "text/html": [
       "<style  type=\"text/css\" >\n",
       "</style><table id=\"T_7a96fb22_004d_11eb_97ae_42010a8a0002\" ><thead>    <tr>        <th class=\"blank level0\" ></th>        <th class=\"col_heading level0 col0\" >Commuter_Trips</th>        <th class=\"col_heading level0 col1\" >Total_Trips</th>        <th class=\"col_heading level0 col2\" >Percent_of_Total</th>    </tr>    <tr>        <th class=\"index_name level0\" >Year_Ending</th>        <th class=\"blank\" ></th>        <th class=\"blank\" ></th>        <th class=\"blank\" ></th>    </tr></thead><tbody>\n",
       "                <tr>\n",
       "                        <th id=\"T_7a96fb22_004d_11eb_97ae_42010a8a0002level0_row0\" class=\"row_heading level0 row0\" >2014-08-31</th>\n",
       "                        <td id=\"T_7a96fb22_004d_11eb_97ae_42010a8a0002row0_col0\" class=\"data row0 col0\" >158,732</td>\n",
       "                        <td id=\"T_7a96fb22_004d_11eb_97ae_42010a8a0002row0_col1\" class=\"data row0 col1\" >313,691</td>\n",
       "                        <td id=\"T_7a96fb22_004d_11eb_97ae_42010a8a0002row0_col2\" class=\"data row0 col2\" >51%</td>\n",
       "            </tr>\n",
       "            <tr>\n",
       "                        <th id=\"T_7a96fb22_004d_11eb_97ae_42010a8a0002level0_row1\" class=\"row_heading level0 row1\" >2015-08-31</th>\n",
       "                        <td id=\"T_7a96fb22_004d_11eb_97ae_42010a8a0002row1_col0\" class=\"data row1 col0\" >204,597</td>\n",
       "                        <td id=\"T_7a96fb22_004d_11eb_97ae_42010a8a0002row1_col1\" class=\"data row1 col1\" >354,196</td>\n",
       "                        <td id=\"T_7a96fb22_004d_11eb_97ae_42010a8a0002row1_col2\" class=\"data row1 col2\" >58%</td>\n",
       "            </tr>\n",
       "            <tr>\n",
       "                        <th id=\"T_7a96fb22_004d_11eb_97ae_42010a8a0002level0_row2\" class=\"row_heading level0 row2\" >2016-08-31</th>\n",
       "                        <td id=\"T_7a96fb22_004d_11eb_97ae_42010a8a0002row2_col0\" class=\"data row2 col0\" >193,211</td>\n",
       "                        <td id=\"T_7a96fb22_004d_11eb_97ae_42010a8a0002row2_col1\" class=\"data row2 col1\" >313,637</td>\n",
       "                        <td id=\"T_7a96fb22_004d_11eb_97ae_42010a8a0002row2_col2\" class=\"data row2 col2\" >62%</td>\n",
       "            </tr>\n",
       "            <tr>\n",
       "                        <th id=\"T_7a96fb22_004d_11eb_97ae_42010a8a0002level0_row3\" class=\"row_heading level0 row3\" >Total</th>\n",
       "                        <td id=\"T_7a96fb22_004d_11eb_97ae_42010a8a0002row3_col0\" class=\"data row3 col0\" >556,540</td>\n",
       "                        <td id=\"T_7a96fb22_004d_11eb_97ae_42010a8a0002row3_col1\" class=\"data row3 col1\" >981,524</td>\n",
       "                        <td id=\"T_7a96fb22_004d_11eb_97ae_42010a8a0002row3_col2\" class=\"data row3 col2\" >57%</td>\n",
       "            </tr>\n",
       "    </tbody></table>"
      ],
      "text/plain": [
       "<pandas.io.formats.style.Styler at 0x7fbc771a88d0>"
      ]
     },
     "execution_count": 348,
     "metadata": {},
     "output_type": "execute_result"
    }
   ],
   "source": [
    "# Convert dataframe into a pivot table so we can get column totals\n",
    "\n",
    "pivot1 = pd.pivot_table(commute_vs_total_trips, index = 'Year_Ending', values=['Commuter_Trips', 'Total_Trips'], columns = [], aggfunc = np.sum,  margins = True, margins_name='Total')\n",
    "df2 = pd.DataFrame(pivot1)\n",
    "\n",
    "# Convert pivot table back into data frame so we can easily add a percent of total column\n",
    "df2['Percent_of_Total'] = df2.Commuter_Trips/df2.Total_Trips\n",
    "df2 = df2.style.format({\"Commuter_Trips\" : \"{:,d}\", \"Total_Trips\" : \"{:,d}\", \"Percent_of_Total\" : \"{:.0%}\"       })\n",
    "df2"
   ]
  },
  {
   "cell_type": "markdown",
   "metadata": {},
   "source": [
    "***\n",
    "We can see several things from the table above:\n",
    "- Commuter trips are a very high percentage of total trips\n",
    "- Commute hours represent only ~18% of weekly hours, but 62% of trips in the most recent year\n",
    "- Commute hours as a percentage of total hours increased every year\n",
    "- There's almost no growth between the first year and the final year of the series\n",
    "\n",
    "**Conclusion: Commuter trips are, in fact, extremely important to the business**\n",
    "\n",
    "***"
   ]
  },
  {
   "cell_type": "markdown",
   "metadata": {},
   "source": [
    "***\n",
    "The next thing we'll look at is the breakout of the number of commute trips in the morning and the evening\n",
    "***"
   ]
  },
  {
   "cell_type": "code",
   "execution_count": 345,
   "metadata": {
    "jupyter": {
     "source_hidden": true
    }
   },
   "outputs": [],
   "source": [
    "# Give the Columns accurate names\n",
    "commute_am_vs_pm.rename(columns={\"f0_\": \"Morning Commute Trips\", \"f1_\": \"Evening Commute Trips\", \"f2_\": \"Total Commute Trips\"},\n",
    "                        inplace=True)\n"
   ]
  },
  {
   "cell_type": "code",
   "execution_count": 346,
   "metadata": {
    "jupyter": {
     "source_hidden": true
    }
   },
   "outputs": [
    {
     "data": {
      "text/html": [
       "<style  type=\"text/css\" >\n",
       "</style><table id=\"T_b738b756_004c_11eb_97ae_42010a8a0002\" ><thead>    <tr>        <th class=\"blank level0\" ></th>        <th class=\"col_heading level0 col0\" >Morning Commute Trips</th>        <th class=\"col_heading level0 col1\" >Evening Commute Trips</th>        <th class=\"col_heading level0 col2\" >Total Commute Trips</th>    </tr></thead><tbody>\n",
       "                <tr>\n",
       "                        <th id=\"T_b738b756_004c_11eb_97ae_42010a8a0002level0_row0\" class=\"row_heading level0 row0\" >Total</th>\n",
       "                        <td id=\"T_b738b756_004c_11eb_97ae_42010a8a0002row0_col0\" class=\"data row0 col0\" >283,214</td>\n",
       "                        <td id=\"T_b738b756_004c_11eb_97ae_42010a8a0002row0_col1\" class=\"data row0 col1\" >273,816</td>\n",
       "                        <td id=\"T_b738b756_004c_11eb_97ae_42010a8a0002row0_col2\" class=\"data row0 col2\" >557,030</td>\n",
       "            </tr>\n",
       "    </tbody></table>"
      ],
      "text/plain": [
       "<pandas.io.formats.style.Styler at 0x7fbc771c4850>"
      ]
     },
     "execution_count": 346,
     "metadata": {},
     "output_type": "execute_result"
    }
   ],
   "source": [
    "\n",
    "index_ = [\"Total\"]\n",
    "commute_am_vs_pm.index = index_ \n",
    "commute_am_vs_pm = commute_am_vs_pm.style.format({\"Morning Commute Trips\" : \"{:,d}\", \"Evening Commute Trips\" : \"{:,d}\", \n",
    "                                                  \"Total Commute Trips\" : \"{:,d}\"})\n",
    "commute_am_vs_pm"
   ]
  },
  {
   "cell_type": "markdown",
   "metadata": {},
   "source": [
    "***\n",
    "A quick look shows a very even split between the number of morning and the number of evening commute trips\n",
    "***"
   ]
  },
  {
   "cell_type": "code",
   "execution_count": null,
   "metadata": {},
   "outputs": [],
   "source": []
  },
  {
   "cell_type": "code",
   "execution_count": null,
   "metadata": {},
   "outputs": [],
   "source": []
  },
  {
   "cell_type": "code",
   "execution_count": null,
   "metadata": {},
   "outputs": [],
   "source": []
  },
  {
   "cell_type": "code",
   "execution_count": null,
   "metadata": {},
   "outputs": [],
   "source": []
  },
  {
   "cell_type": "code",
   "execution_count": null,
   "metadata": {},
   "outputs": [],
   "source": []
  },
  {
   "cell_type": "code",
   "execution_count": null,
   "metadata": {},
   "outputs": [],
   "source": []
  },
  {
   "cell_type": "code",
   "execution_count": null,
   "metadata": {},
   "outputs": [],
   "source": []
  },
  {
   "cell_type": "code",
   "execution_count": null,
   "metadata": {},
   "outputs": [],
   "source": []
  },
  {
   "cell_type": "code",
   "execution_count": null,
   "metadata": {},
   "outputs": [],
   "source": []
  }
 ],
 "metadata": {
  "environment": {
   "name": "tf2-gpu.2-1.m55",
   "type": "gcloud",
   "uri": "gcr.io/deeplearning-platform-release/tf2-gpu.2-1:m55"
  },
  "kernelspec": {
   "display_name": "Python 3",
   "language": "python",
   "name": "python3"
  },
  "language_info": {
   "codemirror_mode": {
    "name": "ipython",
    "version": 3
   },
   "file_extension": ".py",
   "mimetype": "text/x-python",
   "name": "python",
   "nbconvert_exporter": "python",
   "pygments_lexer": "ipython3",
   "version": "3.7.8"
  }
 },
 "nbformat": 4,
 "nbformat_minor": 4
}
